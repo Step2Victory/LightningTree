{
 "cells": [
  {
   "cell_type": "code",
   "execution_count": null,
   "metadata": {},
   "outputs": [],
   "source": [
    "from graphics import map3d_tree_plotly"
   ]
  },
  {
   "attachments": {},
   "cell_type": "markdown",
   "metadata": {},
   "source": [
    "Параметры функции map3d_tree_plotly:\n",
    "    filename - путь к файлу\n",
    "    place - плоскость среза модели\n",
    "    value - координата положения заданной плоскости по исключённой оси\n",
    "    Range - диапазон области, в которой будет отображаться граф по заданной плоскости\n",
    "    mode - режим вывода графика. inline - внутри jupyter; external - в браузере (по умолчанию)\n",
    "    interval - интервал обновления графика в секундах"
   ]
  },
  {
   "cell_type": "code",
   "execution_count": null,
   "metadata": {},
   "outputs": [],
   "source": [
    "map3d_tree_plotly(\"LightningTree.txt\", mode='inline')"
   ]
  }
 ],
 "metadata": {
  "kernelspec": {
   "display_name": "Python 3",
   "language": "python",
   "name": "python3"
  },
  "language_info": {
   "codemirror_mode": {
    "name": "ipython",
    "version": 3
   },
   "file_extension": ".py",
   "mimetype": "text/x-python",
   "name": "python",
   "nbconvert_exporter": "python",
   "pygments_lexer": "ipython3",
   "version": "3.10.2"
  },
  "orig_nbformat": 4,
  "vscode": {
   "interpreter": {
    "hash": "8a2c62a4399dc4e5eb8ea38874f639942f6bfb211731564b1bde3e6fe7b1a300"
   }
  }
 },
 "nbformat": 4,
 "nbformat_minor": 2
}
