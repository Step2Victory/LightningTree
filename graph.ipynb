{
 "cells": [
  {
   "cell_type": "code",
   "execution_count": null,
   "metadata": {},
   "outputs": [],
   "source": [
    "from graphics import map3d_tree_plotly"
   ]
  },
  {
   "attachments": {},
   "cell_type": "markdown",
   "metadata": {},
   "source": [
    "Параметры функции map3d_tree_plotly:\n",
    "    filename - путь к файлу\n",
    "    place - плоскость среза модели\n",
    "    value - координата положения заданной плоскости по исключённой оси\n",
    "    Range - диапазон области, в которой будет отображаться граф по заданной плоскости\n",
    "    mode - режим вывода графика. inline - внутри jupyter; external - в браузере (по умолчанию)\n",
    "    interval - интервал обновления графика в секундах"
   ]
  },
  {
   "cell_type": "code",
   "execution_count": null,
   "metadata": {},
   "outputs": [],
   "source": [
    "map3d_tree_plotly(\"LightningTree.txt\")#, mode='inline')"
   ]
  }
 ],
 "metadata": {
  "kernelspec": {
   "display_name": "Python 3",
   "language": "python",
   "name": "python3"
  },
  "language_info": {
   "codemirror_mode": {
    "name": "ipython",
    "version": 3
   },
   "file_extension": ".py",
   "mimetype": "text/x-python",
   "name": "python",
   "nbconvert_exporter": "python",
   "pygments_lexer": "ipython3",
   "version": "3.10.4"
  },
  "orig_nbformat": 4,
  "vscode": {
   "interpreter": {
    "hash": "3c6b5a6c14a58fc30bed9cb519093a41d5be261e6f551275bb7900fbb0f259cc"
   }
  }
 },
 "nbformat": 4,
 "nbformat_minor": 2
}
